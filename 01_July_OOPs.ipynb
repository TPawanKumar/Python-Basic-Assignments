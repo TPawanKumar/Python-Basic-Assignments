{
 "cells": [
  {
   "cell_type": "code",
   "execution_count": null,
   "id": "b3c68bbe",
   "metadata": {},
   "outputs": [],
   "source": [
    "1. What is the primary goal of Object-Oriented Programming (OOP)?\n",
    "\n",
    "Ans. The primary goal of Object-Oriented Programming (OOP) is to design and create modular, reusable, and scalable software\n",
    "     by organizing code into objects that encapsulate data and behavior. OOP promotes concepts such as inheritance,\n",
    "     polymorphism, and encapsulation to improve code structure, maintainability, and extensibility."
   ]
  },
  {
   "cell_type": "code",
   "execution_count": null,
   "id": "d9ce319c",
   "metadata": {},
   "outputs": [],
   "source": [
    "2. What is an object in Python?\n",
    "\n",
    "Ans. In Python, objects are the fundamental building blocks of programs. They represent individual instances of classes and \n",
    "     encapsulate data and functionality together. Objects can have properties (attributes) that store information, such as\n",
    "     variables, and methods that define their behavior and allow them to perform actions. Objects can also interact with each\n",
    "    other, allowing for complex functionality and code organization. Object-oriented programming in Python revolves around the \n",
    "    concept of objects, making it a powerful and flexible language for creating modular and reusable code."
   ]
  },
  {
   "cell_type": "code",
   "execution_count": null,
   "id": "5f1cb2ee",
   "metadata": {},
   "outputs": [],
   "source": [
    "3. What is a class in Python?\n",
    "\n",
    "Ans. In Python, a class is a blueprint for creating objects. It defines the attributes and behaviors that an object of that \n",
    "     class should have. Classes encapsulate data and functions into a single entity, allowing for code organization and \n",
    "    reusability. Objects created from a class are instances of that class and can access its attributes and methods."
   ]
  },
  {
   "cell_type": "code",
   "execution_count": null,
   "id": "21945561",
   "metadata": {},
   "outputs": [],
   "source": [
    "4. What are attributes and methods in a class?\n",
    "\n",
    "Ans. In object-oriented programming, attributes and methods are the building blocks of a class. Attributes, also known as \n",
    "     properties or member variables, are the characteristics or data associated with an object. They store information about \n",
    "    the state of an object. Methods, on the other hand, are functions defined within a class that perform specific actions or \n",
    "    operations on the object's attributes. They represent the behaviors or actions that an object can perform. By encapsulating\n",
    "    both data (attributes) and behaviors (methods) within a class, objects can interact with one another and their environment\n",
    "    in a structured and organized manner."
   ]
  },
  {
   "cell_type": "code",
   "execution_count": null,
   "id": "5d1d50a3",
   "metadata": {},
   "outputs": [],
   "source": [
    "class Dog:\n",
    "    def __init__(self, name, age):\n",
    "        self.name = name\n",
    "        self.age = age\n",
    "\n",
    "    def bark(self):\n",
    "        print(f\"{self.name} is barking!\")\n",
    "\n",
    "    def birthday(self):\n",
    "        self.age += 1\n",
    "        print(f\"{self.name} is now {self.age} years old.\")\n"
   ]
  },
  {
   "cell_type": "code",
   "execution_count": null,
   "id": "9759a489",
   "metadata": {},
   "outputs": [],
   "source": [
    "5. What is the difference between class variables and instance variables in Python?\n",
    "\n",
    "Ans. Class variables are defined within a class but outside of any methods. They are shared by all instances of the class and \n",
    "     are accessed using the class name. Class variables are created once when the class is defined, and any modifications to the\n",
    "    class variable will be reflected in all instances of the class. They are often used to store values that are common across\n",
    "    all instances, such as constants or default values.\n",
    "                       \n",
    "    On the other hand, instance variables are unique to each instance of a class. They are defined within a class's methods and\n",
    "    are accessed using the instance name. Each instance of the class has its own copy of the instance variables, which can have\n",
    "    different values. Instance variables are typically used to store data that is specific to an individual instance, such as \n",
    "    attributes or state.\n",
    "\n",
    "In summary, the main difference between class variables and instance variables is that class variables are shared among all \n",
    "instances of a class, while instance variables are unique to each instance.\n"
   ]
  },
  {
   "cell_type": "code",
   "execution_count": null,
   "id": "a533b638",
   "metadata": {},
   "outputs": [],
   "source": [
    "6. What is the purpose of the self parameter in Python class methods?\n",
    "\n",
    "Ans. In Python, the self parameter is used in class methods to refer to the instance of the class itself. It is a convention to\n",
    "     name this parameter \"self\" (although you can technically name it anything), and it must be the first parameter in any class\n",
    "    method definition.\n",
    "              The self parameter allows class methods to access and manipulate the instance variables and methods within the \n",
    "    class. When a method is called on an instance of the class, the instance is automatically passed as the self argument. This\n",
    "    allows the method to have access to the instance's attributes and perform actions specific to that instance.\n",
    "   \n",
    "   Using the self parameter, we can modify instance variables, call other instance methods, or interact with the instance\n",
    "    in any desired way. It enables us to maintain state and behavior unique to each instance of the class.\n"
   ]
  },
  {
   "cell_type": "code",
   "execution_count": null,
   "id": "0e819b4a",
   "metadata": {},
   "outputs": [],
   "source": [
    "7. For a library management system, you have to design the \"Book\" class with OOP\n",
    "principles in mind. The “Book” class will have following attributes:\n",
    "\n",
    "Ans.\n",
    "\n",
    "class Book:\n",
    "    def __init__(self, title, author, total_copies):\n",
    "        self.title = title\n",
    "        self.author = author\n",
    "        self.total_copies = total_copies\n",
    "        self.available_copies = total_copies\n",
    "\n",
    "    def check_out(self):\n",
    "        if self.available_copies > 0:\n",
    "            self.available_copies -= 1\n",
    "            print(\"Book checked out successfully.\")\n",
    "        else:\n",
    "            print(\"No available copies for checkout.\")\n",
    "\n",
    "    def return_book(self):\n",
    "        if self.available_copies < self.total_copies:\n",
    "            self.available_copies += 1\n",
    "            print(\"Book returned successfully.\")\n",
    "        else:\n",
    "            print(\"All copies of the book have been returned.\")\n",
    "\n",
    "    def display_book_info(self):\n",
    "        print(f\"Title: {self.title}\")\n",
    "        print(f\"Author: {self.author}\")\n",
    "        print(f\"Total copies: {self.total_copies}\")\n",
    "        print(f\"Available copies: {self.available_copies}\")\n",
    "        "
   ]
  },
  {
   "cell_type": "code",
   "execution_count": null,
   "id": "620113a3",
   "metadata": {},
   "outputs": [],
   "source": [
    "8. For a ticket booking system, you have to design the \"Ticket\" class with OOP\n",
    "principles in mind. The “Ticket” class should have the following attributes:\n",
    "    \n",
    "Ans."
   ]
  },
  {
   "cell_type": "code",
   "execution_count": 1,
   "id": "df4611a1",
   "metadata": {},
   "outputs": [],
   "source": [
    "class Ticket:\n",
    "    def __init__(self, ticket_id, event_name, event_date, venue, seat_number, price):\n",
    "        self.ticket_id = ticket_id\n",
    "        self.event_name = event_name\n",
    "        self.event_date = event_date\n",
    "        self.venue = venue\n",
    "        self.seat_number = seat_number\n",
    "        self.price = price\n",
    "        self.is_reserved = False\n",
    "    \n",
    "    def reserve_ticket(self):\n",
    "        if not self.is_reserved:\n",
    "            self.is_reserved = True\n",
    "            print(\"Ticket {} successfully reserved.\".format(self.ticket_id))\n",
    "        else:\n",
    "            print(\"Ticket {} is already reserved.\".format(self.ticket_id))\n",
    "            \n",
    "    def cancel_reservation(self):\n",
    "        if self.is_reserved:\n",
    "            self.is_reserved = False\n",
    "            print(\"Reservation for ticket {} successfully cancelled.\".format(self.ticket_id))\n",
    "        else:\n",
    "            print(\"Ticket {} is not reserved.\".format(self.ticket_id))\n",
    "            \n",
    "    def display_ticket_info(self):\n",
    "        print(\"Ticket ID:\", self.ticket_id)\n",
    "        print(\"Event Name:\", self.event_name)\n",
    "        print(\"Seat Number:\", self.seat_number)\n",
    "        print(\"Venue:\", self.venue)\n",
    "        print(\"Reservation Status:\", \"Reserved\" if self.is_reserved else \"Not Reserved\")"
   ]
  },
  {
   "cell_type": "code",
   "execution_count": null,
   "id": "141fbf2c",
   "metadata": {},
   "outputs": [],
   "source": [
    "9. You are creating a shopping cart for an e-commerce website. Using OOP to model\n",
    "the \"ShoppingCart\" functionality the class should contain following attributes and\n",
    "methods:\n",
    "\n",
    "Ans. "
   ]
  },
  {
   "cell_type": "code",
   "execution_count": null,
   "id": "737a8f00",
   "metadata": {},
   "outputs": [],
   "source": [
    "class ShoppingCart:\n",
    "    def _init_(self):\n",
    "        self.items = []\n",
    "\n",
    "    def add_item(self, item):\n",
    "        self.items.append(item)\n",
    "\n",
    "    def remove_item(self, item):\n",
    "        if item in self.items:\n",
    "            self.items.remove(item)\n",
    "        else:\n",
    "            print(\"Item not found in the shopping cart.\")\n",
    "\n",
    "    def view_cart(self):\n",
    "        if len(self.items) > 0:\n",
    "            print(\"Items in the shopping cart:\")\n",
    "            for item in self.items:\n",
    "                print(item)\n",
    "        else:\n",
    "            print(\"Shopping cart is empty.\")\n",
    "\n",
    " def clear_cart(self):\n",
    "        self.items = []\n",
    "        print(\"Shopping cart cleared.\")\n"
   ]
  },
  {
   "cell_type": "code",
   "execution_count": null,
   "id": "ebf0ba89",
   "metadata": {},
   "outputs": [],
   "source": [
    "10. Imagine a school management system. You have to design the \"Student\" class using\n",
    "OOP concepts.The “Student” class has the following attributes:\n",
    "\n",
    "Ans."
   ]
  },
  {
   "cell_type": "code",
   "execution_count": null,
   "id": "73e47245",
   "metadata": {},
   "outputs": [],
   "source": [
    "class Student:\n",
    "\n",
    "def_init__(self, name, age, grade, student_id):\n",
    "\n",
    "self.name = name\n",
    "\n",
    "self.age age\n",
    "\n",
    "self.grade = grade\n",
    "\n",
    "self.student_id = student_id\n",
    "\n",
    "self.attendance = {}\n",
    "\n",
    "def update_attendance(self, date, status):\n",
    "\n",
    "self.attendance[date] = status\n",
    "\n",
    "def get_attendance (self): return self.attendance\n",
    "\n",
    "def get_average_attendance(self): \n",
    "    total_days = len(self.attendance)\n",
    "\n",
    "  if total_days == 0:\n",
    "\n",
    "return 0\n"
   ]
  }
 ],
 "metadata": {
  "kernelspec": {
   "display_name": "Python 3 (ipykernel)",
   "language": "python",
   "name": "python3"
  },
  "language_info": {
   "codemirror_mode": {
    "name": "ipython",
    "version": 3
   },
   "file_extension": ".py",
   "mimetype": "text/x-python",
   "name": "python",
   "nbconvert_exporter": "python",
   "pygments_lexer": "ipython3",
   "version": "3.11.5"
  }
 },
 "nbformat": 4,
 "nbformat_minor": 5
}
