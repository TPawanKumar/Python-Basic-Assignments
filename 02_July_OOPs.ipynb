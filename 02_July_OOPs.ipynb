{
 "cells": [
  {
   "cell_type": "code",
   "execution_count": null,
   "id": "41ddc782",
   "metadata": {},
   "outputs": [],
   "source": [
    "1. Explain what inheritance is in object-oriented programming and why it is used.\n",
    "\n",
    "Ans.  Inheritance in object-oriented programming refers to the mechanism where a class (subclass) inherits properties and \n",
    "      behaviors (attributes and methods) from another class (superclass). It allows subclasses to reuse and extend the\n",
    "     functionalities of the superclass, promoting code reusability, abstraction, and modularity. By inheriting from a superclass,\n",
    "    a subclass gains access to its attributes and methods, enabling hierarchical structuring of classes, reducing redundant code\n",
    "    and facilitating easier maintenance and enhancement of software systems. Overall, inheritance is used to establish a \n",
    "    hierarchical relationship among classes, fostering efficient and structured development in OOP paradigms."
   ]
  },
  {
   "cell_type": "code",
   "execution_count": null,
   "id": "1fcaebdf",
   "metadata": {},
   "outputs": [],
   "source": [
    "2. Discuss the concept of single inheritance and multiple inheritance, highlighting their differences and advantages.\n",
    "\n",
    "Ans.  Single inheritance involves a class inheriting attributes and methods from only one superclass. It maintains simplicity,\n",
    "      avoiding conflicts from multiple sources but limits acquiring behaviors from a single lineage. Multiple inheritance, \n",
    "     however, permits a class to inherit from multiple superclasses, allowing access to diverse functionalities. It promotes \n",
    "     code reuse and flexibility but can lead to ambiguity or the \"diamond problem\" - conflicts arising when two superclasses \n",
    "     offer the same method. Single inheritance ensures straightforwardness and avoids conflicts, while multiple inheritance \n",
    "    offers versatility at the cost of potential ambiguity and complexity in handling conflicting method resolutions."
   ]
  },
  {
   "cell_type": "code",
   "execution_count": null,
   "id": "7667a161",
   "metadata": {},
   "outputs": [],
   "source": [
    "3. Explain the terms \"base class\" and \"derived class\" in the context of inheritance.\n",
    "\n",
    "Ans.  In inheritance, the \"base class\" refers to the superclass from which attributes and methods are inherited. It serves as \n",
    "      the foundation, providing functionalities to be inherited by other classes. The \"derived class\" (or subclass) is the class\n",
    "      that inherits attributes and methods from the base class. It extends or specializes the functionalities of the base class,\n",
    "      adding its unique features. The derived class can access and use the attributes and methods of the base class while having\n",
    "     the flexibility to introduce its own specific attributes and methods, thereby forming a hierarchical relationship in \n",
    "     object-oriented programming."
   ]
  },
  {
   "cell_type": "code",
   "execution_count": null,
   "id": "647f48b2",
   "metadata": {},
   "outputs": [],
   "source": [
    "4. What is the significance of the \"protected\" access modifier in inheritance? How does it differ from \"private\" and \"public\" \n",
    "   modifiers?\n",
    "    \n",
    "Ans. The \"protected\" access modifier in inheritance allows attributes and methods to be accessed within the class where they're\n",
    "     defined and by its subclasses. It provides a balance between privacy and accessibility, permitting derived classes to \n",
    "     utilize inherited elements while restricting direct access from outside the class hierarchy. \"Private\" restricts access to \n",
    "     only the defining class, while \"public\" allows access from anywhere. \"Protected\" enables subclasses to access inherited \n",
    "     members, fostering encapsulation and controlled accessibility within the inheritance hierarchy, ensuring a level of \n",
    "     abstraction while facilitating extensibility in object-oriented designs."
   ]
  },
  {
   "cell_type": "code",
   "execution_count": null,
   "id": "8cf2404b",
   "metadata": {},
   "outputs": [],
   "source": [
    "5. What is the purpose of the \"super\" keyword in inheritance? Provide an example.\n",
    "\n",
    "Ans.  The \"super\" keyword in inheritance refers to the superclass, allowing access to its methods and attributes within a subclass. It's used to invoke the superclass's constructor, methods, or attributes from the subclass. This enables extending or overriding the superclass's functionalities while maintaining access to its elements. For instance:\n",
    "\n",
    "class Parent: def_init__(self): self.parent_attr = 10\n",
    "class Child(Parent):\n",
    "definit_(self): super()._init_() \n",
    "    #Invoking Parent's constructor self.child_attr = 20"
   ]
  },
  {
   "cell_type": "code",
   "execution_count": null,
   "id": "f19c3b73",
   "metadata": {},
   "outputs": [],
   "source": [
    "6. Create a base class called \"Vehicle\" with attributes like \"make\", \"model\", and \"year\". Then, create a derived class called\n",
    "   \"Car\" that inherits from \"Vehicle\" and adds an attribute called \"fuel_type\". Implement appropriate methods in both classes.\n",
    "    \n",
    "Ans.\n",
    "\n",
    "class Vehicle:\n",
    "    def__init__(self, make, model, year):\n",
    "        self.make = make \n",
    "        self.model model \n",
    "        self.year = year\n",
    "    def display_info(self): \n",
    "        print(f\"Make: {self.make}, Model: {self.model}, Year: {self.year}\")\n",
    "class Car(Vehicle): \n",
    "    def__init__(self, make, model, year, fuel_type): \n",
    "        super()._init_(make, model, year) \n",
    "        self.fuel_type = fuel_type\n",
    "    def display_info(self): \n",
    "        super().display_info() \n",
    "        print(f\"Fuel Type: T {self.fuel_type}\")"
   ]
  },
  {
   "cell_type": "code",
   "execution_count": null,
   "id": "cb7e45e0",
   "metadata": {},
   "outputs": [],
   "source": [
    "7. Create a base class called \"Employee\" with attributes like \"name\" and \"salary.\" Derive two classes, \"Manager\" and \"Developer,\n",
    "   \" from \"Employee.\" Add an additional attribute called \"department\" for the \"Manager\" class and \"programming_language\" for the\n",
    "    \"Developer\" class.\n",
    "    \n",
    "Ans.\n",
    "\n",
    "class Employee:\n",
    "    def__init__(self, name, salary):\n",
    "        self.name = name\n",
    "        self.salary = salary\n",
    "\n",
    "class Manager (Employee):\n",
    "    def__init__(self, name, salary, department):\n",
    "        super().init_(name, salary)\n",
    "           self.department department\n",
    "\n",
    "class Developer (Employee):\n",
    "    def__init__(self, name, salary, programming_language):\n",
    "        super().init_(name, salary)\n",
    "           self.programming_language = programming_language"
   ]
  },
  {
   "cell_type": "code",
   "execution_count": null,
   "id": "a6f67bab",
   "metadata": {},
   "outputs": [],
   "source": [
    "8. Design a base class called \"Shape\" with attributes like \"colour\" and \"border_width.\" Create derived classes, \"Rectangle\" and\n",
    "   \"Circle,\" that inherit from \"Shape\" and add specific attributes like \"length\" and \"width\" for the \"Rectangle\" class and\n",
    "    \"radius\" for the \"Circle\" class.\n",
    "    \n",
    "Ans. \n",
    "\n",
    "class Shape:\n",
    "    def__init__(self, colour, border_width):\n",
    "        self.colour = colour \n",
    "        self.border_width = border_width\n",
    "\n",
    "class Rectangle(Shape):\n",
    "    def __init__(self, colour, border_width, length, width):\n",
    "        super().init_(colour, border_width)\n",
    "            self.length = length\n",
    "            self.width = width\n",
    "\n",
    "class Circle(Shape):\n",
    "    def__init__(self, colour, border_width, radius):\n",
    "        super().init_(colour, border_width)\n",
    "          self.radius = radius"
   ]
  },
  {
   "cell_type": "code",
   "execution_count": null,
   "id": "6860c783",
   "metadata": {},
   "outputs": [],
   "source": [
    "9. Create a base class called \"Device\" with attributes like \"brand\" and \"model.\" Derive two classes, \"Phone\" and \"Tablet,\" from \n",
    "   \"Device.\" Add specific attributes like \"screen_size\" for the \"Phone\" class and \"battery_capacity\" for the \"Tablet\" class.\n",
    "    \n",
    "Ans.\n",
    "\n",
    "class Device: \n",
    "    def__init__(self, brand, model):\n",
    "      self.brand = brand\n",
    "      self.model = model\n",
    "\n",
    "class Phone(Device):\n",
    "    def__init__(self, brand, model, screen_size):\n",
    "        super().init_(brand, model)\n",
    "           self.screen_size = screen_size\n",
    "\n",
    "class Tablet (Device):\n",
    "    def__init__(self, brand, model, battery_capacity):\n",
    "        super().init_(brand, self.battery_capacity = model)\n",
    "          battery_capacity"
   ]
  },
  {
   "cell_type": "code",
   "execution_count": null,
   "id": "b42a0f90",
   "metadata": {},
   "outputs": [],
   "source": [
    "10. Create a base class called \"BankAccount\" with attributes like \"account_number\" and \"balance.\" Derive two classes, \n",
    "   \"SavingsAccount\" and \"CheckingAccount,\" from \"BankAccount.\" Add specific methods like \"calculate_interest\" for the \n",
    "    \"SavingsAccount\" class and \"deduct_fees\" for the \"CheckingAccount\" class.\n",
    "    \n",
    "Ans. \n",
    "\n",
    "class BankAccount:\n",
    "    def _init_(self, account_number, balance):\n",
    "        self.account_number = account_number\n",
    "        self.balance = balance\n",
    "\n",
    "class SavingsAccount(BankAccount):\n",
    "    def calculate_interest(self, interest_rate):\n",
    "        interest = self.balance * interest_rate\n",
    "        self.balance += interest\n",
    "        return interest\n",
    "\n",
    "class CheckingAccount(BankAccount):\n",
    "    def deduct_fees(self, fee):\n",
    "        if self.balance >= fee:\n",
    "            self.balance -= fee\n",
    "            return True\n",
    "        else:\n",
    "            return False"
   ]
  }
 ],
 "metadata": {
  "kernelspec": {
   "display_name": "Python 3 (ipykernel)",
   "language": "python",
   "name": "python3"
  },
  "language_info": {
   "codemirror_mode": {
    "name": "ipython",
    "version": 3
   },
   "file_extension": ".py",
   "mimetype": "text/x-python",
   "name": "python",
   "nbconvert_exporter": "python",
   "pygments_lexer": "ipython3",
   "version": "3.11.5"
  }
 },
 "nbformat": 4,
 "nbformat_minor": 5
}
