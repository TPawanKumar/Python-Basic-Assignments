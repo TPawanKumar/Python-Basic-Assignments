{
 "cells": [
  {
   "cell_type": "code",
   "execution_count": null,
   "id": "0379fb10",
   "metadata": {},
   "outputs": [],
   "source": [
    "1.\tIn Python, wat is the difference between a built-in function and a user-defined function? Provide an example of each.\n",
    "\n",
    "Ans.  Built-in functions in Python are functions that are already predefined in the Python programming language. They are readily available for use without the need for additional import statements. These functions provide basic functionality and can be used in various contexts. \n",
    "Examples of built-in functions in Python include `print() `len() `type() and `max()`."
   ]
  },
  {
   "cell_type": "code",
   "execution_count": 1,
   "id": "2cf4d28e",
   "metadata": {},
   "outputs": [
    {
     "name": "stdout",
     "output_type": "stream",
     "text": [
      "Hello world!\n"
     ]
    }
   ],
   "source": [
    "print(\"Hello world!\")"
   ]
  },
  {
   "cell_type": "code",
   "execution_count": null,
   "id": "a471bee5",
   "metadata": {},
   "outputs": [],
   "source": [
    "User-defined functions on the other hand are functions that are created by the users themselves. These functions are defined using the `def` keyword followed by a function name and a block of code that specifies what the function does. \n",
    "User-defined functions allow users to define reusable blocks of code that can be called multiple times throughout a program. "
   ]
  },
  {
   "cell_type": "code",
   "execution_count": 2,
   "id": "500cda02",
   "metadata": {},
   "outputs": [
    {
     "name": "stdout",
     "output_type": "stream",
     "text": [
      "25\n"
     ]
    }
   ],
   "source": [
    "def square(number):\n",
    "    return number ** 2\n",
    "result = square(5)\n",
    "print(result) "
   ]
  },
  {
   "cell_type": "code",
   "execution_count": null,
   "id": "27c00e22",
   "metadata": {},
   "outputs": [],
   "source": []
  },
  {
   "cell_type": "code",
   "execution_count": null,
   "id": "aa8a5e6e",
   "metadata": {},
   "outputs": [],
   "source": [
    "2.\tHow can you pass arguments to a function in Python? Explain the difference between positional arguments and keyword arguments.\n",
    "\n",
    "Ans.  Positional Arguments: Positional arguments are passed to a function based on their position or order.\n",
    "    The function defines parameters and the arguments are passed in the same order when calling the function. The number and order of the arguments must match the parameters specified in the function definition."
   ]
  },
  {
   "cell_type": "code",
   "execution_count": 9,
   "id": "4699adde",
   "metadata": {},
   "outputs": [
    {
     "name": "stdout",
     "output_type": "stream",
     "text": [
      "Hello Alice! You are 25 years old.\n"
     ]
    }
   ],
   "source": [
    "def greet(name,age):\n",
    "    print(f\"Hello {name}! You are {age} years old.\")\n",
    "greet(\"Alice\", \"25\")"
   ]
  },
  {
   "cell_type": "code",
   "execution_count": null,
   "id": "4cd9d400",
   "metadata": {},
   "outputs": [],
   "source": [
    "Keyword Arguments: Keyword arguments are passed to a function based on the parameter names. \n",
    "In this case the arguments are not dependent on their position but rather identified by their parameter names. \n",
    "This allows you to pass only the desired arguments without the need to pass all the arguments."
   ]
  },
  {
   "cell_type": "code",
   "execution_count": 12,
   "id": "33a75d70",
   "metadata": {},
   "outputs": [
    {
     "name": "stdout",
     "output_type": "stream",
     "text": [
      "Hello Alice! You are 25 years old.\n"
     ]
    }
   ],
   "source": [
    "def greet(name, age):\n",
    "    print(f\"Hello {name}! You are {age} years old.\")\n",
    "\n",
    "greet(name=\"Alice\", age=\"25\")\n"
   ]
  },
  {
   "cell_type": "code",
   "execution_count": null,
   "id": "4e85c537",
   "metadata": {},
   "outputs": [],
   "source": []
  },
  {
   "cell_type": "code",
   "execution_count": null,
   "id": "62c32215",
   "metadata": {},
   "outputs": [],
   "source": [
    "3. What is the purpose of the return statement in a function? Can a function have multiple return\n",
    "statements? Explain with an example.\n",
    "\n",
    "Ans.  The purpose of the return statement in a function is to specify the value that the function should output or return when it is called. \n",
    "It is used to terminate the execution of the function and provide the result back to the caller. Yes a function can have multiple return statements. \n",
    "Once a return statement is encountered the function execution will stop and the specified value will be returned. This allows the function to have different return paths based on certain conditions. "
   ]
  },
  {
   "cell_type": "code",
   "execution_count": 16,
   "id": "3c37ae05",
   "metadata": {},
   "outputs": [
    {
     "name": "stdout",
     "output_type": "stream",
     "text": [
      "10\n"
     ]
    }
   ],
   "source": [
    "           \n",
    "def maximum(a, b):\n",
    "    if a > b:\n",
    "        return a\n",
    "    else:\n",
    "        return b\n",
    "print(maximum(5, 10))   \n"
   ]
  },
  {
   "cell_type": "code",
   "execution_count": null,
   "id": "c01c24ca",
   "metadata": {},
   "outputs": [],
   "source": []
  },
  {
   "cell_type": "code",
   "execution_count": null,
   "id": "44540071",
   "metadata": {},
   "outputs": [],
   "source": [
    "4.\tWhat are lambda functions in Python? How are they different from regular functions? Provide an example where a lambda function can be useful.\n",
    "\n",
    "Ans. Lambda functions in Python are anonymous functions that can be defined without a name. They are typically used when a small one-time function is needed without the need to define a separate function explicitly.\n",
    "Lambda functions can take any number of arguments but can only have a single expression. They are different from regular functions as they do not require a return statement cannot contain any statements or complex logic and are \n",
    "typically written in a single line."
   ]
  },
  {
   "cell_type": "code",
   "execution_count": 21,
   "id": "a8854074",
   "metadata": {},
   "outputs": [
    {
     "name": "stdout",
     "output_type": "stream",
     "text": [
      "[-2, 3, 5, -8, 10]\n"
     ]
    }
   ],
   "source": [
    "numbers = [5, -2, 10, -8, 3]\n",
    "sorted_numbers = sorted(numbers, key=lambda x: abs(x))\n",
    "print(sorted_numbers)  \n"
   ]
  },
  {
   "cell_type": "code",
   "execution_count": null,
   "id": "1bcb16e2",
   "metadata": {},
   "outputs": [],
   "source": []
  },
  {
   "cell_type": "code",
   "execution_count": null,
   "id": "36b8bc8b",
   "metadata": {},
   "outputs": [],
   "source": [
    "5.\tHow does the concept of \"scope\" apply to functions in Python? Explain the difference between local scope and global scope.\n",
    "\n",
    "Ans.  In Python the concept of \"scope\" refers to the region within a program where a variable or name is accessible.\n",
    "Local scope refers to variables that are defined within a specific function. These variables can only be accessed and modified within that function.\n",
    "Global scope on the other hand refers to variables that are defined outside of any function making them accessible from anywhere within the program.\n",
    "The main difference between local and global scope is their visibility. Local variables are only visible within the function they are defined in while global variables can be accessed from any part of the program."
   ]
  },
  {
   "cell_type": "code",
   "execution_count": null,
   "id": "eecadea9",
   "metadata": {},
   "outputs": [],
   "source": []
  },
  {
   "cell_type": "code",
   "execution_count": null,
   "id": "8a971b0a",
   "metadata": {},
   "outputs": [],
   "source": [
    "6.\tHow can you use the \"return\" statement in a Python function to return multiple values?\n",
    "\n",
    "Ans.  the \"return\" statement in a function is used to specify the value(s) that will be passed back to the caller of the function. \n",
    "Although it may seem that \"return\" can only return a single value it can actually be used to return multiple values in the form of tuples lists or any other iterable data structure. \n",
    "To return multiple values simply separate the values with commas in the \"return\" statement. For example you can write:"
   ]
  },
  {
   "cell_type": "code",
   "execution_count": 24,
   "id": "e0af6190",
   "metadata": {},
   "outputs": [],
   "source": [
    "def get_coordinates():\n",
    "    x = 5\n",
    "    y = 10\n",
    "    return x, y"
   ]
  },
  {
   "cell_type": "code",
   "execution_count": null,
   "id": "99bd159c",
   "metadata": {},
   "outputs": [],
   "source": [
    "In this example the function `get_coordinates()` returns two values `x` and `y as a tuple `(5 10)`. The caller of the function can then use tuple unpacking to access these values separately.\n",
    "x_coord y_coord = get_coordinates()\n",
    "Now `x_coord` will be assigned the value 5 and `y_coord` will be assigned the value 10."
   ]
  },
  {
   "cell_type": "code",
   "execution_count": null,
   "id": "2324b675",
   "metadata": {},
   "outputs": [],
   "source": []
  },
  {
   "cell_type": "code",
   "execution_count": null,
   "id": "b4197f58",
   "metadata": {},
   "outputs": [],
   "source": [
    "7.\tWhat is the difference between the \"pass by value\" and \"pass by reference\" concepts when it comes to function arguments in Python?\n",
    "\n",
    "Ans.  In Python function arguments are passed by assignment. However it's essential to understand the difference between \"pass by value\" and \"pass by reference\" in order to grasp this concept.\n",
    "In \"pass by value the function creates a local copy of the argument value. Any modifications made to the argument inside the function won't affect the original value outside the function. \n",
    "This is the case for immutable objects like numbers and strings. In contrast in \"pass by reference the function receives a reference to the original object. Any modifications made to the argument inside the function will directly affect the original value outside the function. \n",
    "This applies to mutable objects like lists and dictionaries.\n",
    "                              So although Python behaves like \"pass by value\" for immutable objects it's more accurate to say that Python uses \"pass by object reference.\""
   ]
  },
  {
   "cell_type": "code",
   "execution_count": null,
   "id": "1b1862d5",
   "metadata": {},
   "outputs": [],
   "source": []
  },
  {
   "cell_type": "code",
   "execution_count": null,
   "id": "06884dc4",
   "metadata": {},
   "outputs": [],
   "source": [
    "8.\tCreate a function that can intake integer or decimal value and do following operations:\n",
    "                      a. Logarithmic function (log x)\n",
    "                      b. Exponential function (exp(x))\n",
    "                      c. Power function with base 2 (2x)\n",
    "                      d. Square root\n",
    "\n",
    " Ans.                   "
   ]
  },
  {
   "cell_type": "code",
   "execution_count": 44,
   "id": "a2e83776",
   "metadata": {},
   "outputs": [
    {
     "name": "stdout",
     "output_type": "stream",
     "text": [
      "{'log': 1.6094379124341003, 'exp': 148.4131591025766, 'power': 32, 'sqrt': 2.23606797749979}\n"
     ]
    }
   ],
   "source": [
    "import math\n",
    "\n",
    "def perform_operations(x):\n",
    "    result = {}\n",
    "    \n",
    "    result['log'] = math.log(x)    # Logarithmic function (log x)\n",
    "    result['exp'] = math.exp(x)       # Exponential function (exp(x))\n",
    "    result['power'] = 2 ** x       # Power function with base 2 (2^x)\n",
    "    result['sqrt'] = math.sqrt(x)        # Square root\n",
    "    return result\n",
    "\n",
    "input_value = 5\n",
    "output = perform_operations(input_value)\n",
    "print(output)\n"
   ]
  },
  {
   "cell_type": "code",
   "execution_count": null,
   "id": "e113b74e",
   "metadata": {},
   "outputs": [],
   "source": []
  },
  {
   "cell_type": "code",
   "execution_count": null,
   "id": "b4675088",
   "metadata": {},
   "outputs": [],
   "source": [
    "9.\tCreate a function that takes a full name as an argument and returns first name and last name.\n",
    "\n",
    "Ans.  The `split()` method returns a list of strings where each string represents an individual word. By convention the first word in the list would be considered the first name and \n",
    "the last word would be considered the last name."
   ]
  },
  {
   "cell_type": "code",
   "execution_count": 61,
   "id": "2a5b4b37",
   "metadata": {},
   "outputs": [
    {
     "name": "stdout",
     "output_type": "stream",
     "text": [
      "First Name John\n",
      "Last Name Doe\n"
     ]
    }
   ],
   "source": [
    "def get_first_and_last_name(full_name):\n",
    "    names = full_name.split()\n",
    "    first_name = names[0]\n",
    "    last_name = names[-1]  # -1 represents the last element in a list\n",
    "    return first_name, last_name\n",
    "\n",
    "\n",
    "name = \"John Doe\"\n",
    "first_name, last_name = get_first_and_last_name(name)\n",
    "print(\"First Name\", first_name)\n",
    "print(\"Last Name\", last_name)"
   ]
  },
  {
   "cell_type": "code",
   "execution_count": null,
   "id": "c0fbde6b",
   "metadata": {},
   "outputs": [],
   "source": []
  }
 ],
 "metadata": {
  "kernelspec": {
   "display_name": "Python 3 (ipykernel)",
   "language": "python",
   "name": "python3"
  },
  "language_info": {
   "codemirror_mode": {
    "name": "ipython",
    "version": 3
   },
   "file_extension": ".py",
   "mimetype": "text/x-python",
   "name": "python",
   "nbconvert_exporter": "python",
   "pygments_lexer": "ipython3",
   "version": "3.11.4"
  }
 },
 "nbformat": 4,
 "nbformat_minor": 5
}
