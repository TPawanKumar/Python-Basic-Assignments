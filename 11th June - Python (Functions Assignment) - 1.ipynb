{
 "cells": [
  {
   "cell_type": "code",
   "execution_count": null,
   "id": "8084623e",
   "metadata": {},
   "outputs": [],
   "source": [
    "1.\tWhat is a lambda function in Python, and how does it differ from a regular function?\n",
    "\n",
    "Ans.  A lambda function in Python is a small anonymous function that can be defined in a single line using the lambda keyword.\n",
    "It is primarily used for creating simple throwaway functions without explicitly naming them. The main difference between a lambda function and a regular function \n",
    "lies in their syntax and usage. Lambda functions are typically used for short quick calculations rather than for complex reusable code. They can only contain a single expression and automatically return the result of that expression. In contrast regular functions are defined using the def keyword have a name and can contain multiple statements and a return statement."
   ]
  },
  {
   "cell_type": "code",
   "execution_count": null,
   "id": "d6f1026d",
   "metadata": {},
   "outputs": [],
   "source": []
  },
  {
   "cell_type": "code",
   "execution_count": null,
   "id": "2dd0ee31",
   "metadata": {},
   "outputs": [],
   "source": [
    "2.\tCan a lambda function in Python have multiple arguments? If yes, how can you define and use them?\n",
    "\n",
    "Ans.   Yes a lambda function in Python can have multiple arguments. To define and use multiple arguments in a lambda function you can use the syntax \n",
    "`lambda arg1 arg2 argn: expression`.\n",
    "Ex: -"
   ]
  },
  {
   "cell_type": "code",
   "execution_count": 3,
   "id": "98c3e2ed",
   "metadata": {},
   "outputs": [
    {
     "name": "stdout",
     "output_type": "stream",
     "text": [
      "15\n"
     ]
    }
   ],
   "source": [
    "multiply = lambda x, y: x * y\n",
    "print(multiply(5, 3))  "
   ]
  },
  {
   "cell_type": "code",
   "execution_count": 5,
   "id": "a87f37eb",
   "metadata": {},
   "outputs": [
    {
     "name": "stdout",
     "output_type": "stream",
     "text": [
      "12\n"
     ]
    }
   ],
   "source": [
    "#We can have any number of arguments in a lambda function by separating them with commas. For example:\n",
    "\n",
    "addition = lambda a, b, c: a + b + c\n",
    "print(addition(2, 4, 6))  "
   ]
  },
  {
   "cell_type": "code",
   "execution_count": null,
   "id": "c8723d51",
   "metadata": {},
   "outputs": [],
   "source": []
  },
  {
   "cell_type": "code",
   "execution_count": null,
   "id": "fce0d25f",
   "metadata": {},
   "outputs": [],
   "source": [
    "3.\tHow are lambda functions typically used in Python? Provide an example use case.\n",
    "\n",
    "Ans.  Lambda functions in Python are anonymous functions that can be defined inline and used for short simple operations. They are typically used in \n",
    "situations where a small one-time function is needed without the need to assign a name to it. One common use case for lambda functions is in functional programming \n",
    "and with higher-order functions like `map() `filter() and `reduce()`. For example we can use a lambda function with `map()` to apply a specific operation on each element of a list:"
   ]
  },
  {
   "cell_type": "code",
   "execution_count": 68,
   "id": "8c04c627",
   "metadata": {},
   "outputs": [],
   "source": [
    "numbers = [1, 2, 3, 4, 5]\n",
    "squared_numbers = list(map(lambda x: x**2,numbers))"
   ]
  },
  {
   "cell_type": "code",
   "execution_count": null,
   "id": "abbac4fd",
   "metadata": {},
   "outputs": [],
   "source": [
    "In this example the lambda function `lambda x: x**2` is applied to each element `x` in the `numbers` list resulting in a new list `squared_numbers` \n",
    "containing the squared values. Lambda functions are also useful in sorting and defining custom criteria. They allow us to define a specific key function \n",
    "inline without the need to define a separate function."
   ]
  },
  {
   "cell_type": "code",
   "execution_count": null,
   "id": "ca91277e",
   "metadata": {},
   "outputs": [],
   "source": []
  },
  {
   "cell_type": "code",
   "execution_count": null,
   "id": "a9204be2",
   "metadata": {},
   "outputs": [],
   "source": [
    "4.\tWhat are the advantages and limitations of lambda functions compared to regular functions in Python?\n",
    "\n",
    "Ans.  Lambda functions also known as anonymous functions provide several advantages over regular functions in Python. Here are some key advantages:\n",
    "•\tLambda functions allow you to write simple one-line functions without the need for a complete function definition. This makes code more compact and readable.\n",
    "•\tLambda functions follow a minimalist syntax reducing the need for explicit return statements or function names. They are ideal for cases where a small single-use function is required.\n",
    "•\tLambda functions can be used wherever a function object is expected such as in higher-order functions like map filter and reduce(). They allow you to define and use small functions on-the-fly without the need for defining a named function separately.\n",
    "          some limitations to consider when using lambda functions:\n",
    "•\tLambda functions are limited to a single expression. They cannot contain multiple statements or complex logic making them unsuitable for longer or more intricate functions.\n",
    "•\tLambda functions don't support docstrings making it difficult to provide detailed documentation for the function's purpose and usage.\n",
    "•\tWhile lambda functions can make code more concise they may sacrifice readability for complex logic. It can be challenging to understand the purpose and behavior of a lambda function at first glance without proper variable naming or comments.\n"
   ]
  },
  {
   "cell_type": "code",
   "execution_count": null,
   "id": "be1299d6",
   "metadata": {},
   "outputs": [],
   "source": []
  },
  {
   "cell_type": "code",
   "execution_count": null,
   "id": "ca25f94a",
   "metadata": {},
   "outputs": [],
   "source": [
    "5.\tAre lambda functions in Python able to access variables defined outside of their own scope? Explain with an example.\n",
    "\n",
    "Ans.    Yes, lambda functions in Python are able to access variables defined outside of their own scope. This is because lambda functions\n",
    "have access to the variables in the enclosing scope which is known as the closure. "
   ]
  },
  {
   "cell_type": "code",
   "execution_count": 16,
   "id": "fb143d2f",
   "metadata": {},
   "outputs": [
    {
     "name": "stdout",
     "output_type": "stream",
     "text": [
      "15\n"
     ]
    }
   ],
   "source": [
    "def outer_function():\n",
    "    x = 10\n",
    "    inner_function = lambda y: x + y\n",
    "    return inner_function\n",
    "closure_function = outer_function() # Returns the lambda function\n",
    "result = closure_function(5) # Accesses x from the outer function's scope\n",
    "print(result) "
   ]
  },
  {
   "cell_type": "code",
   "execution_count": null,
   "id": "25000ff8",
   "metadata": {},
   "outputs": [],
   "source": []
  },
  {
   "cell_type": "code",
   "execution_count": null,
   "id": "24e2f755",
   "metadata": {},
   "outputs": [],
   "source": [
    "6.\tWrite a lambda function to calculate the square of a given number.\n",
    "\n",
    "Ans.  square = lambda x: x ** 2"
   ]
  },
  {
   "cell_type": "code",
   "execution_count": null,
   "id": "82937b2f",
   "metadata": {},
   "outputs": [],
   "source": []
  },
  {
   "cell_type": "code",
   "execution_count": null,
   "id": "ba6672e3",
   "metadata": {},
   "outputs": [],
   "source": [
    "7.\tCreate a lambda function to find the maximum value in a list of integers. \n",
    "\n",
    "Ans.  "
   ]
  },
  {
   "cell_type": "code",
   "execution_count": 19,
   "id": "6fe3e142",
   "metadata": {},
   "outputs": [
    {
     "name": "stdout",
     "output_type": "stream",
     "text": [
      "9\n"
     ]
    }
   ],
   "source": [
    "nums = [3, 9, 2, 5, 1]\n",
    "maximum = max(nums)\n",
    "print(maximum)  "
   ]
  },
  {
   "cell_type": "code",
   "execution_count": null,
   "id": "10185685",
   "metadata": {},
   "outputs": [],
   "source": []
  },
  {
   "cell_type": "code",
   "execution_count": null,
   "id": "e5db926d",
   "metadata": {},
   "outputs": [],
   "source": [
    "8.\tImplement a lambda function to filter out all the even numbers from a list of integers.\n",
    "\n",
    "Ans.    "
   ]
  },
  {
   "cell_type": "code",
   "execution_count": 30,
   "id": "d21b048a",
   "metadata": {},
   "outputs": [
    {
     "name": "stdout",
     "output_type": "stream",
     "text": [
      "[2, 4, 6, 8, 10]\n"
     ]
    }
   ],
   "source": [
    "numbers = [1,2,3,4,5,6,7,8,9,10]\n",
    "filtered_numbers = list(filter(lambda x: x % 2 == 0, numbers ))\n",
    "print(filtered_numbers)\n"
   ]
  },
  {
   "cell_type": "code",
   "execution_count": null,
   "id": "bdc73489",
   "metadata": {},
   "outputs": [],
   "source": []
  },
  {
   "cell_type": "code",
   "execution_count": null,
   "id": "25dafbfe",
   "metadata": {},
   "outputs": [],
   "source": [
    "9.\tWrite a lambda function to sort a list of strings in ascending order based on the length of each  string.\n",
    "\n",
    "Ans.    "
   ]
  },
  {
   "cell_type": "code",
   "execution_count": 36,
   "id": "9f799035",
   "metadata": {},
   "outputs": [
    {
     "name": "stdout",
     "output_type": "stream",
     "text": [
      "['apple', 'banana', 'orange', 'pear']\n"
     ]
    }
   ],
   "source": [
    "strings = ['apple', 'banana', 'pear', 'orange']\n",
    "sorted_strings = sorted(strings)\n",
    "print(sorted_strings)"
   ]
  },
  {
   "cell_type": "code",
   "execution_count": null,
   "id": "e0e98e18",
   "metadata": {},
   "outputs": [],
   "source": []
  },
  {
   "cell_type": "code",
   "execution_count": null,
   "id": "070f7ee6",
   "metadata": {},
   "outputs": [],
   "source": [
    "10.\tCreate a lambda function that takes two lists as input and returns a new list containing the common elements between the two lists.\n",
    "\n",
    "Ans.    "
   ]
  },
  {
   "cell_type": "code",
   "execution_count": 41,
   "id": "f15eb2f5",
   "metadata": {},
   "outputs": [
    {
     "name": "stdout",
     "output_type": "stream",
     "text": [
      "[3, 4]\n"
     ]
    }
   ],
   "source": [
    "   \n",
    "list1 = [1,2,3,4]\n",
    "list2 = [3,4,5,6]\n",
    "result = list( set(list1)&set(list2) )\n",
    "print(result)"
   ]
  },
  {
   "cell_type": "code",
   "execution_count": null,
   "id": "f1c6cbb1",
   "metadata": {},
   "outputs": [],
   "source": []
  },
  {
   "cell_type": "code",
   "execution_count": null,
   "id": "781ea8e0",
   "metadata": {},
   "outputs": [],
   "source": [
    "11.\tWrite a recursive function to calculate the factorial of a given positive integer.\n",
    "\n",
    "Ans. "
   ]
  },
  {
   "cell_type": "code",
   "execution_count": 44,
   "id": "a7028193",
   "metadata": {},
   "outputs": [],
   "source": [
    "def factorial(n):\n",
    "    if n == 0:\n",
    "        return 1\n",
    "    else:\n",
    "        return n * factorial(n - 1)\n"
   ]
  },
  {
   "cell_type": "code",
   "execution_count": null,
   "id": "02edb96f",
   "metadata": {},
   "outputs": [],
   "source": []
  },
  {
   "cell_type": "code",
   "execution_count": null,
   "id": "85ab53ef",
   "metadata": {},
   "outputs": [],
   "source": [
    "12.\tImplement a recursive function to compute the nth Fibonacci number.\n",
    "\n",
    "Ans.   "
   ]
  },
  {
   "cell_type": "code",
   "execution_count": 46,
   "id": "88b4286e",
   "metadata": {},
   "outputs": [],
   "source": [
    "def fibonacci(n):\n",
    "    if n <= 0:\n",
    "        raise ValueError(\"Fibonacci sequence is only defined for positive integers.\")\n",
    "    elif n == 1 or n == 2:\n",
    "        return 1\n",
    "    else:\n",
    "        return fibonacci(n - 1) + fibonacci(n - 2)\n"
   ]
  },
  {
   "cell_type": "code",
   "execution_count": null,
   "id": "1f0dff07",
   "metadata": {},
   "outputs": [],
   "source": []
  },
  {
   "cell_type": "code",
   "execution_count": null,
   "id": "23270ed5",
   "metadata": {},
   "outputs": [],
   "source": [
    "13.\tCreate a recursive function to find the sum of all the elements in a given list.\n",
    "\n",
    "Ans.      "
   ]
  },
  {
   "cell_type": "code",
   "execution_count": 48,
   "id": "0856cce9",
   "metadata": {},
   "outputs": [
    {
     "name": "stdout",
     "output_type": "stream",
     "text": [
      "15\n"
     ]
    }
   ],
   "source": [
    "def find_sum(lst):\n",
    "    if len(lst) == 0:\n",
    "        return 0\n",
    "    else:\n",
    "        return lst[0] + find_sum(lst[1:])\n",
    "\n",
    "my_list = [1,2,3,4,5]\n",
    "sum_of_list = find_sum(my_list)\n",
    "print(sum_of_list)  "
   ]
  },
  {
   "cell_type": "code",
   "execution_count": null,
   "id": "854a4744",
   "metadata": {},
   "outputs": [],
   "source": []
  },
  {
   "cell_type": "code",
   "execution_count": null,
   "id": "af9c4bb4",
   "metadata": {},
   "outputs": [],
   "source": [
    "14.\tWrite a recursive function to determine whether a given string is a palindrome.\n",
    "\n",
    "Ans.  "
   ]
  },
  {
   "cell_type": "code",
   "execution_count": 49,
   "id": "ebecdc4c",
   "metadata": {},
   "outputs": [
    {
     "name": "stdout",
     "output_type": "stream",
     "text": [
      "True\n",
      "False\n",
      "True\n"
     ]
    }
   ],
   "source": [
    "def is_palindrome(string):\n",
    "    # Base case: if the string is empty or contains only one character it is a palindrome\n",
    "    if len(string) <= 1:\n",
    "        return True\n",
    "    # Recursive case: compare the first and last characters and check if the remaining substring is a palindrome\n",
    "    if string[0] == string[-1]:\n",
    "        # Remove the first and last characters and check the remaining substring\n",
    "        return is_palindrome(string[1:-1])\n",
    "    else:\n",
    "        return False\n",
    "print(is_palindrome(\"racecar\")  ) \n",
    "print(is_palindrome(\"hello\"))      \n",
    "print(is_palindrome(\"madam\"))      "
   ]
  },
  {
   "cell_type": "code",
   "execution_count": null,
   "id": "a8a3accc",
   "metadata": {},
   "outputs": [],
   "source": []
  },
  {
   "cell_type": "code",
   "execution_count": null,
   "id": "5cc529cb",
   "metadata": {},
   "outputs": [],
   "source": [
    "15.\tImplement a recursive function to find the greatest common divisor (GCD) of two positive integers.\n",
    "\n",
    "Ans.   "
   ]
  },
  {
   "cell_type": "code",
   "execution_count": 66,
   "id": "6c927a29",
   "metadata": {},
   "outputs": [
    {
     "name": "stdout",
     "output_type": "stream",
     "text": [
      "GCD of 24 and 36 is: 12\n"
     ]
    }
   ],
   "source": [
    "def gcd(a,b):\n",
    "    if b == 0:\n",
    "        return a\n",
    "    else:\n",
    "        return gcd(b, a % b)\n",
    "num1 = 24\n",
    "num2 = 36\n",
    "print(\"GCD of\",num1,\"and\",num2,\"is:\",gcd(num1,num2) )"
   ]
  },
  {
   "cell_type": "code",
   "execution_count": null,
   "id": "498f128c",
   "metadata": {},
   "outputs": [],
   "source": []
  }
 ],
 "metadata": {
  "kernelspec": {
   "display_name": "Python 3 (ipykernel)",
   "language": "python",
   "name": "python3"
  },
  "language_info": {
   "codemirror_mode": {
    "name": "ipython",
    "version": 3
   },
   "file_extension": ".py",
   "mimetype": "text/x-python",
   "name": "python",
   "nbconvert_exporter": "python",
   "pygments_lexer": "ipython3",
   "version": "3.11.4"
  }
 },
 "nbformat": 4,
 "nbformat_minor": 5
}
