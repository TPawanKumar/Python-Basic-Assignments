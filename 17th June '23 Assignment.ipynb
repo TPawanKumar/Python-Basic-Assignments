{
 "cells": [
  {
   "cell_type": "code",
   "execution_count": null,
   "id": "759c3e00",
   "metadata": {},
   "outputs": [],
   "source": [
    "1.\tWhat is the role of try and exception block?\n",
    "\n",
    "Ans.  The try and except block is a fundamental concept in error handling within programming languages. It allows developers\n",
    "      to anticipate and handle potential errors or exceptions that may occur during the execution of their code. The try block\n",
    "      encapsulates the code that could potentially generate an exception. If an exception occurs within the try block the flow\n",
    "      of control immediately transfers to the except block. The except block contains the code to handle the exception providing \n",
    "      a way for the program to gracefully recover from unexpected errors. By using try and except blocks developers can ensure \n",
    "      that their program continues to run smoothly even in the presence of errors. It allows for the handling of specific\n",
    "      exceptions resulting in more granular control over error handling and providing the ability to handle different types of \n",
    "      errors differently."
   ]
  },
  {
   "cell_type": "code",
   "execution_count": null,
   "id": "faa437ee",
   "metadata": {},
   "outputs": [],
   "source": []
  },
  {
   "cell_type": "code",
   "execution_count": null,
   "id": "dde2f494",
   "metadata": {},
   "outputs": [],
   "source": [
    "2.\tWhat is the syntax for a basic try-except block?\n",
    "\n",
    "Ans.    \n",
    "try:\n",
    "    # Code block to be executed\n",
    "    # that may raise an exception\n",
    "except ExceptionType:\n",
    "    # Code block to handle the exception"
   ]
  },
  {
   "cell_type": "code",
   "execution_count": null,
   "id": "cbbe4666",
   "metadata": {},
   "outputs": [],
   "source": []
  },
  {
   "cell_type": "code",
   "execution_count": null,
   "id": "7fbc5eaa",
   "metadata": {},
   "outputs": [],
   "source": [
    "3.\tWhat happens if an exception occurs inside a try block and there is no matching except block?\n",
    "\n",
    "Ans. If an exception occurs inside a try block and there is no matching except block to handle it the exception will propagate\n",
    "     up the call stack until it is caught by an appropriate except block or until it reaches the top-level of the program. \n",
    "    If the exception is not caught it will result in the program terminating and an error message will be displayed.\n",
    "    The default behaviour of most programming languages is to print a stack trace which shows the sequence of function calls \n",
    "    that led to the point where the exception occurred. In some cases, the program may be able o gracefully handle the exception\n",
    "    by using a finally block if one is present. The code inside the finally block will always execute regardless of whether an \n",
    "    exception occurred or not. This allows the program to perform any necessary cleanup or resource release before terminating.\n",
    "    However, the finally block does not handle or catch the exception itself it is just executed before the program ends."
   ]
  },
  {
   "cell_type": "code",
   "execution_count": null,
   "id": "53b2aaed",
   "metadata": {},
   "outputs": [],
   "source": []
  },
  {
   "cell_type": "code",
   "execution_count": null,
   "id": "51bdaffe",
   "metadata": {},
   "outputs": [],
   "source": [
    "4.\tWhat is the difference between using a bare except block and specifying a specific exception type?\n",
    "\n",
    "Ans.    When writing code that includes error or exception handling there is a crucial distinction between using a bare \n",
    "       `except` block and specifying a specific exception type.\n",
    "1. Bare `except` block:\n",
    "   - A bare `except` block catches any type of exception that is raised within the `try` block.\n",
    "   - It doesn't differentiate between different exception types.\n",
    "   - This can be problematic because it makes it difficult to identify the specific cause of the error.\n",
    "   - It may result in unexpected or unintended error handling.\n",
    "   - It can make debugging and troubleshooting more challenging.\n",
    "\n",
    "Example of a bare `except` block:\n",
    "try:\n",
    "    # Some code that may raise exceptions\n",
    "except:\n",
    "    # Exception handling code\n",
    "2. Specifying a specific exception type:\n",
    "   - By specifying a specific exception type you can catch and handle only that particular type of exception.\n",
    "   - This allows for more accurate and targeted error handling.\n",
    "   - It provides clearer information about the cause of the error.\n",
    "   - It enables you to handle different exceptions in different ways tailoring the approach based on the type of error.\n",
    "\n",
    "Example of specifying a specific exception type:\n",
    "try:\n",
    "    # Some code that may raise exceptions\n",
    "except ValueError:\n",
    "    # Handling code for ValueError\n",
    "except FileNotFoundError:\n",
    "    # Handling code for FileNotFoundError\n",
    "except:\n",
    "    # Catch-all for other exceptions\n"
   ]
  },
  {
   "cell_type": "code",
   "execution_count": null,
   "id": "0978dc69",
   "metadata": {},
   "outputs": [],
   "source": []
  },
  {
   "cell_type": "code",
   "execution_count": null,
   "id": "cb6d16bb",
   "metadata": {},
   "outputs": [],
   "source": [
    "5.\tCan you have nested try-except blocks in Python? If yes, then give an example.\n",
    "\n",
    "Ans.      Yes, nested try-except blocks are allowed in Python. Nested try-except blocks can be used to handle different\n",
    "           exceptions at different levels of code execution.\n",
    "Example of nested try-except blocks in Python:"
   ]
  },
  {
   "cell_type": "code",
   "execution_count": 4,
   "id": "9520915e",
   "metadata": {},
   "outputs": [
    {
     "name": "stdout",
     "output_type": "stream",
     "text": [
      "Enter the numerator: 12\n",
      "Enter the denominator: 6\n",
      "Result 2.0\n"
     ]
    }
   ],
   "source": [
    "   try:\n",
    "    # Outer try block\n",
    "    numerator = int(input(\"Enter the numerator: \"))\n",
    "    denominator = int(input(\"Enter the denominator: \"))\n",
    "\n",
    "    try:\n",
    "        # Inner try block\n",
    "        result = numerator / denominator\n",
    "        print(\"Result\", result)\n",
    "    except ZeroDivisionError:\n",
    "        print(\"Error: Division by zero is not allowed.\")\n",
    "except ValueError:\n",
    "    print(\"Error: Please enter valid integer values.\")\n"
   ]
  },
  {
   "cell_type": "code",
   "execution_count": null,
   "id": "14e402f1",
   "metadata": {},
   "outputs": [],
   "source": []
  },
  {
   "cell_type": "code",
   "execution_count": null,
   "id": "668bc366",
   "metadata": {},
   "outputs": [],
   "source": [
    "6.\tCan we use multiple exception blocks, if yes then give an example.\n",
    "\n",
    "Ans.        Yes, it is possible to use multiple exception blocks in a try-except statement to handle different types of \n",
    "            exceptions separately. Each except block can catch and handle a specific type of exception.\n",
    "Input: -"
   ]
  },
  {
   "cell_type": "code",
   "execution_count": 16,
   "id": "61090af7",
   "metadata": {},
   "outputs": [
    {
     "name": "stdout",
     "output_type": "stream",
     "text": [
      "Enter a number: 5\n",
      "Result 2.0\n"
     ]
    }
   ],
   "source": [
    "try:\n",
    "    # Some code that could raise exceptions\n",
    "    num = int(input(\"Enter a number: \"))\n",
    "    result = 10 / num\n",
    "    print(\"Result\",result)\n",
    "except ValueError:\n",
    "    # Handles exception raised when the input is not a valid integer\n",
    "    print(\"Invalid input. Please enter a valid integer.\")\n",
    "except ZeroDivisionError:\n",
    "    # Handles exception raised when a zero is entered as the denominator\n",
    "    print(\"Cannot divide by zero.\")\n",
    "except Exception as e:\n",
    " # Handles any other unexpected exception\n",
    "    print(\"An error occurred str(e)\")\n"
   ]
  },
  {
   "cell_type": "code",
   "execution_count": null,
   "id": "fb691530",
   "metadata": {},
   "outputs": [],
   "source": []
  },
  {
   "cell_type": "code",
   "execution_count": null,
   "id": "47d43655",
   "metadata": {},
   "outputs": [],
   "source": [
    "7.\tWrite the reason due to which following errors are raised:\n",
    "                a. EOFError\n",
    "                b. FloatingPointError\n",
    "                c. IndexError\n",
    "                d. MemoryError\n",
    "                e. OverflowError\n",
    "                f. TabError\n",
    "                g. ValueError\n",
    "\n",
    "\n",
    "Ans.       \n",
    "a. EOFError: This error is raised when the end of a file or input stream is reached unexpectedly while trying to read data. It occurs when an input function fails to receive the expected input before the end of the file.\n",
    "b. Floating PointError: This error is raised when a floating-point operation fails to produce a valid result such as division by zero or arithmetic involving infinite or NaN (Not a Number) values.\n",
    "c. IndexError: This error is raised when trying to access an index that is outside the range of valid indices for a sequence or list. It occurs when an index specified is negative or exceeds the length of the sequence.\n",
    "d. MemoryError: This error is raised when an operation fails due to insufficient memory allocation. It occurs when the system runs out of memory while trying to allocate space for an object such as when allocating a large array or data structure.\n",
    "e. OverflowError: This error is raised when the result of an arithmetic operation exceeds the maximum representable value for a numeric type. It occurs when performing calculations that result in a value exceeding the limits of the numeric type being used.\n",
    "f. TabError: This error is raised when the indentation in Python code is not correctly aligned. It occurs when mixing tabs and spaces or using inconsistent indentation within a block of code.\n",
    "g. ValueError: This error is raised when a function receives an argument of an unexpected type or value. It occurs when a built-in function or method is called with an argument that is of an inappropriate or unsupported type. It can also occur when trying to convert a value to a different type that is not possible or valid.\n",
    "\n"
   ]
  },
  {
   "cell_type": "code",
   "execution_count": null,
   "id": "434e4510",
   "metadata": {},
   "outputs": [],
   "source": []
  },
  {
   "cell_type": "code",
   "execution_count": null,
   "id": "3b361f49",
   "metadata": {},
   "outputs": [],
   "source": [
    "8.\tWrite code for the following given scenario and add try-exception block to it.\n",
    "                 a. Program to divide two numbers\n",
    "                 b. Program to convert a string to an integer\n",
    "                 c. Program to access an element in a list\n",
    "                 d. Program to handle a specific exception\n",
    "                 e. Program to handle any exception\n",
    "\n",
    "                    \n",
    "Ans."
   ]
  },
  {
   "cell_type": "code",
   "execution_count": 19,
   "id": "c229b2ec",
   "metadata": {},
   "outputs": [
    {
     "name": "stdout",
     "output_type": "stream",
     "text": [
      "The result of division is 5.0\n",
      "Error: Cannot divide by zero!\n"
     ]
    }
   ],
   "source": [
    "# a. Program to divide two numbers:\n",
    "\n",
    "def divide_numbers(num1, num2):\n",
    "    try:\n",
    "        result = num1 / num2\n",
    "        print(\"The result of division is\",result)\n",
    "    except ZeroDivisionError:\n",
    "        print(\"Error: Cannot divide by zero!\")\n",
    "divide_numbers(10, 2)  # Output: The result of division is: 5.0\n",
    "divide_numbers(5 ,0)   # Output: Error: Cannot divide by zero!\n"
   ]
  },
  {
   "cell_type": "code",
   "execution_count": 21,
   "id": "0a8b74df",
   "metadata": {},
   "outputs": [
    {
     "name": "stdout",
     "output_type": "stream",
     "text": [
      "The converted integer 10\n",
      "Error: Invalid input. Cannot convert to an integer!\n"
     ]
    }
   ],
   "source": [
    "#  b. Program to convert a string to an integer:\n",
    "\n",
    "def convert_to_integer(string):\n",
    "    try:\n",
    "        num = int(string)\n",
    "        print(\"The converted integer\",num)\n",
    "    except ValueError:\n",
    "        print(\"Error: Invalid input. Cannot convert to an integer!\")\n",
    "convert_to_integer(\"10\")  # Output: The converted integer: 10\n",
    "convert_to_integer(\"abcd\")  # Output: Error: Invalid input. Cannot convert to an integer!\n"
   ]
  },
  {
   "cell_type": "code",
   "execution_count": 26,
   "id": "f00449ed",
   "metadata": {},
   "outputs": [
    {
     "name": "stdout",
     "output_type": "stream",
     "text": [
      "The element at index index is  3\n",
      "Error: Index out of range!\n"
     ]
    }
   ],
   "source": [
    "#  c. Program to access an element in a list:\n",
    "\n",
    "def access_list_element(lst,index):\n",
    "    try:\n",
    "        element = lst[index]\n",
    "        print(\"The element at index index is \",element)\n",
    "    except IndexError:\n",
    "        print(\"Error: Index out of range!\")\n",
    "my_list = [1,2,3,4,5]\n",
    "access_list_element(my_list,2)  # Output: The element at index 2 is: 3\n",
    "access_list_element(my_list,10)  # Output: Error: Index out of range!\n"
   ]
  },
  {
   "cell_type": "code",
   "execution_count": 27,
   "id": "fe54ec19",
   "metadata": {},
   "outputs": [
    {
     "name": "stdout",
     "output_type": "stream",
     "text": [
      "The result of division is 5.0\n",
      "Error: Cannot divide by zero!\n"
     ]
    }
   ],
   "source": [
    "#  d. Program to handle a specific exception:\n",
    "\n",
    "def handle_specific_exception(num1, num2):\n",
    "    try:\n",
    "        result = num1 / num2\n",
    "        print(\"The result of division is\",result)\n",
    "    except ZeroDivisionError:\n",
    "        print(\"Error: Cannot divide by zero!\")\n",
    "handle_specific_exception(10, 2)  # Output: The result of division is: 5.0\n",
    "handle_specific_exception(5, 0)  # Output: Error: Cannot divide by zero!\n"
   ]
  },
  {
   "cell_type": "code",
   "execution_count": 30,
   "id": "7914a17e",
   "metadata": {},
   "outputs": [
    {
     "name": "stdout",
     "output_type": "stream",
     "text": [
      "The result of division is 5.0\n",
      "An error occurred division by zero\n"
     ]
    }
   ],
   "source": [
    "#  e. Program to handle any exception:\n",
    "\n",
    "def handle_any_exception(num1, num2):\n",
    "    try:\n",
    "        result = num1 / num2\n",
    "        print(\"The result of division is\",result)\n",
    "    except Exception as e:\n",
    "        print(\"An error occurred\",str(e))\n",
    "handle_any_exception(10, 2)  # Output: The result of division is: 5.0\n",
    "handle_any_exception(5, 0)  # Output: An error occurred: division by zero\n"
   ]
  },
  {
   "cell_type": "code",
   "execution_count": null,
   "id": "ed636326",
   "metadata": {},
   "outputs": [],
   "source": []
  }
 ],
 "metadata": {
  "kernelspec": {
   "display_name": "Python 3 (ipykernel)",
   "language": "python",
   "name": "python3"
  },
  "language_info": {
   "codemirror_mode": {
    "name": "ipython",
    "version": 3
   },
   "file_extension": ".py",
   "mimetype": "text/x-python",
   "name": "python",
   "nbconvert_exporter": "python",
   "pygments_lexer": "ipython3",
   "version": "3.11.4"
  }
 },
 "nbformat": 4,
 "nbformat_minor": 5
}
