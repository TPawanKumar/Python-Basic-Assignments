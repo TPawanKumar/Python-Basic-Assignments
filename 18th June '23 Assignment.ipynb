{
 "cells": [
  {
   "cell_type": "code",
   "execution_count": null,
   "id": "d36eb3ec",
   "metadata": {},
   "outputs": [],
   "source": [
    "1. What is the role of the 'else' block in a try-except statement? Provide an example\n",
    "scenario where it would be useful.\n",
    "\n",
    "Ans. When using a try-except statement the 'else' block is optional and serves as a part of the control flow that executes \n",
    "     only if no exceptions are raised in the corresponding 'try' block. It is typically used to define a sequence of statements\n",
    "     to be executed if the code in the 'try' block completes successfully.\n"
   ]
  },
  {
   "cell_type": "code",
   "execution_count": 1,
   "id": "7b2d9c63",
   "metadata": {},
   "outputs": [
    {
     "name": "stdout",
     "output_type": "stream",
     "text": [
      "Enter a number: 6\n",
      "The result is: 1.6666666666666667\n"
     ]
    }
   ],
   "source": [
    "try:\n",
    "    x = int(input(\"Enter a number: \"))\n",
    "    result = 10 / x\n",
    "except ValueError:\n",
    "    print(\"Invalid input. Please enter a valid integer.\")\n",
    "except ZeroDivisionError:\n",
    "    print(\"Cannot divide by zero.\")\n",
    "else:\n",
    "    print(f\"The result is: {result}\")\n"
   ]
  },
  {
   "cell_type": "code",
   "execution_count": null,
   "id": "ad9cea77",
   "metadata": {},
   "outputs": [],
   "source": []
  },
  {
   "cell_type": "code",
   "execution_count": null,
   "id": "25b25165",
   "metadata": {},
   "outputs": [],
   "source": [
    "2. Can a try-except block be nested inside another try-except block? Explain with an example.\n",
    "\n",
    "Ans. Yes it is possible to nest try-except blocks inside each other. This allows for handling different types \n",
    "    of exceptions within different levels of code execution. "
   ]
  },
  {
   "cell_type": "code",
   "execution_count": 4,
   "id": "c8a381f6",
   "metadata": {},
   "outputs": [
    {
     "name": "stdout",
     "output_type": "stream",
     "text": [
      "Enter numerator: 5\n",
      "Enter denominator: 0\n",
      "Cannot divide by zero.\n"
     ]
    }
   ],
   "source": [
    "try:\n",
    "    # Outer try-except block\n",
    "    try:\n",
    "        # Inner try-except block\n",
    "        num1 = int(input(\"Enter numerator: \"))\n",
    "        num2 = int(input(\"Enter denominator: \"))\n",
    "        \n",
    "        result = num1 / num2\n",
    "        \n",
    "        print(\"Result\",result)\n",
    "        \n",
    "    except ValueError:\n",
    "        print(\"Invalid input. Please enter a valid integer.\")\n",
    "        \n",
    "    except ZeroDivisionError:\n",
    "        print(\"Cannot divide by zero.\")\n",
    "        \n",
    "except Exception as e:\n",
    "    print(\"An error occurred\", str(e))\n"
   ]
  },
  {
   "cell_type": "code",
   "execution_count": null,
   "id": "fc713e21",
   "metadata": {},
   "outputs": [],
   "source": []
  },
  {
   "cell_type": "code",
   "execution_count": null,
   "id": "210bc8b6",
   "metadata": {},
   "outputs": [],
   "source": [
    "3. How can you create a custom exception class in Python? Provide an example that demonstrates its usage.\n",
    "\n",
    "Ans. To create a custom exception class in Python you can define a new class that inherits from the built-in `Exception` \n",
    "     class or any of its subclasses like `RuntimeError` or `ValueError`. "
   ]
  },
  {
   "cell_type": "code",
   "execution_count": 8,
   "id": "90c21cc8",
   "metadata": {},
   "outputs": [
    {
     "name": "stdout",
     "output_type": "stream",
     "text": [
      "Error Cannot divide by zero!\n"
     ]
    }
   ],
   "source": [
    "# Here's an example demonstrating the creation and usage of a custom exception class:\n",
    "\n",
    "class CustomException(Exception):\n",
    "    \"\"\"Custom exception class\"\"\"\n",
    "    def __init__(self,message):\n",
    "        self.message = message\n",
    "\n",
    "    def __str__(self):\n",
    "        return self.message\n",
    "  \n",
    "# Usage example\n",
    "def divide(x, y):\n",
    "    if y == 0:\n",
    "        raise CustomException(\"Cannot divide by zero!\")\n",
    "    return x / y\n",
    "\n",
    "try:\n",
    "    result = divide(10, 0)\n",
    "    print(\"Result\",result)\n",
    "except CustomException as e:\n",
    "    print(\"Error\", str(e))\n",
    "\n"
   ]
  },
  {
   "cell_type": "code",
   "execution_count": null,
   "id": "184a9090",
   "metadata": {},
   "outputs": [],
   "source": [
    "In this example we define a custom exception class called `CustomException` that inherits from the `Exception` class. It has\n",
    "an `_init` method to initialize the exception with a message and a `str_` method to convert the exception to a string \n",
    "representation. The `divide` function checks if the second argument is zero and raises a `CustomException` if so. In the `try`\n",
    "block we call the `divide` function and catch any raised `CustomException` in the `except` block. If the exception is caught\n",
    "we print the error message using `str(e)`. When you run this code the division by zero will raise a `CustomException which will\n",
    "be caught in the `except` block and the error message will be printed.\n",
    "\n",
    "Output:\n",
    "Error: Cannot divide by zero!"
   ]
  },
  {
   "cell_type": "code",
   "execution_count": null,
   "id": "29b736a2",
   "metadata": {},
   "outputs": [],
   "source": []
  },
  {
   "cell_type": "code",
   "execution_count": null,
   "id": "7bbf9ea3",
   "metadata": {},
   "outputs": [],
   "source": [
    "4. What are some common exceptions that are built-in to Python?\n",
    "\n",
    "Ans. Some built-in exceptions that can be used for error handling and control flow. Some common exceptions include:\n",
    "\n",
    "1. `TypeError`: Raised when an operation or function is applied to an object of an inappropriate type.\n",
    "2. `ValueError`: Raised when a function receives an argument of the correct type but with an inappropriate value.\n",
    "3. `NameError`: Raised when a local or global name is not found.\n",
    "4. `IndexError`: Raised when a sequence subscript is out of range.\n",
    "5. `KeyError`: Raised when a dictionary key is not found.\n",
    "6. `FileNotFoundError`: Raised when a file or directory is not found.\n",
    "7. `TypeError`: Raised when an unsupported argument type is passed to a function.\n",
    "8. `SyntaxError`: Raised when there is a syntax error in the code.\n",
    "9. `AttributeError`: Raised when an attribute reference or assignment fails.\n",
    "10. `ZeroDivisionError`: Raised when division or modulo operation is performed with zero as the divisor."
   ]
  },
  {
   "cell_type": "code",
   "execution_count": null,
   "id": "2829e1eb",
   "metadata": {},
   "outputs": [],
   "source": []
  },
  {
   "cell_type": "code",
   "execution_count": null,
   "id": "d6f6909e",
   "metadata": {},
   "outputs": [],
   "source": [
    "5. What is logging in Python, and why is it important in software development?\n",
    "\n",
    "Ans. Logging in Python is a built-in module that allows developers to record and track events that occur during the execution\n",
    "     of a program. It is crucial in software development for several reasons. Firstly logging helps in debugging and\n",
    "    troubleshooting by providing detailed information about the program's execution flow variable values and exceptions.\n",
    "    Secondly it enables developers to monitor the performance and health of an application by logging metrics like execution\n",
    "    time resource usage and error rates. Lastly logs play a significant role in auditing and compliance as they provide an\n",
    "    audit trail that can be used for security regulatory and legal purposes. Overall logging enhances the development and\n",
    "    maintenance process improving the quality and reliability of software systems.\n"
   ]
  },
  {
   "cell_type": "code",
   "execution_count": null,
   "id": "9a9c3c13",
   "metadata": {},
   "outputs": [],
   "source": []
  },
  {
   "cell_type": "code",
   "execution_count": null,
   "id": "90fde8c0",
   "metadata": {},
   "outputs": [],
   "source": [
    "6. Explain the purpose of log levels in Python logging and provide examples of when each log level would be appropriate.\n",
    "\n",
    "Ans.Python's logging module defines several log levels ranging from least severe to most severe. Here are the common log levels and their purposes:\n",
    "\n",
    "    1. DEBUG: This is the lowest log level and is typically used for diagnostic information during development. It provides\n",
    "        detailed information about the program's execution variable values and other debugging details. Debug logs are used to \n",
    "        identify and fix issues within the code.\n",
    "\n",
    "Example usage:"
   ]
  },
  {
   "cell_type": "code",
   "execution_count": 9,
   "id": "5a763514",
   "metadata": {},
   "outputs": [
    {
     "name": "stderr",
     "output_type": "stream",
     "text": [
      "DEBUG:root:This is a debug log message.\n"
     ]
    }
   ],
   "source": [
    "import logging\n",
    "logging.basicConfig(level=logging.DEBUG)\n",
    "logging.debug(\"This is a debug log message.\")"
   ]
  },
  {
   "cell_type": "code",
   "execution_count": null,
   "id": "27a8eefa",
   "metadata": {},
   "outputs": [],
   "source": [
    "    2. INFO: This log level provides general informational messages about the program's execution. It captures events and \n",
    "        important milestones that can be useful for understanding the flow of the program.\n",
    "\n",
    "Example usage:"
   ]
  },
  {
   "cell_type": "code",
   "execution_count": 10,
   "id": "3e0fb582",
   "metadata": {},
   "outputs": [
    {
     "name": "stderr",
     "output_type": "stream",
     "text": [
      "INFO:root:This is an informational log message.\n"
     ]
    }
   ],
   "source": [
    "import logging\n",
    "logging.basicConfig(level=logging.INFO)\n",
    "logging.info(\"This is an informational log message.\")"
   ]
  },
  {
   "cell_type": "code",
   "execution_count": null,
   "id": "544ccd72",
   "metadata": {},
   "outputs": [],
   "source": [
    "    3. WARNING: This log level indicates potential issues or warnings that could affect the program's functionality but are not\n",
    "    critical enough to interrupt its execution. Warnings might include deprecated functions suboptimal configurations or\n",
    "    situations where an error is expected but can be handled gracefully.\n",
    "\n",
    "Example usage:"
   ]
  },
  {
   "cell_type": "code",
   "execution_count": 11,
   "id": "4d5602a7",
   "metadata": {},
   "outputs": [
    {
     "name": "stderr",
     "output_type": "stream",
     "text": [
      "WARNING:root:This is a warning log message.\n"
     ]
    }
   ],
   "source": [
    "import logging\n",
    "logging.basicConfig(level=logging.WARNING)\n",
    "logging.warning(\"This is a warning log message.\")"
   ]
  },
  {
   "cell_type": "code",
   "execution_count": null,
   "id": "da2614e5",
   "metadata": {},
   "outputs": [],
   "source": [
    "    4. ERROR: This level represents errors that occur during program execution. These errors do not cause the program to \n",
    "        terminate but indicate a problem that needs attention. It is used to log unexpected situations that could impact the\n",
    "        program's functionality.\n",
    "\n",
    "Example usage:"
   ]
  },
  {
   "cell_type": "code",
   "execution_count": 12,
   "id": "43c40e5f",
   "metadata": {},
   "outputs": [
    {
     "name": "stderr",
     "output_type": "stream",
     "text": [
      "ERROR:root:This is an error log message.\n"
     ]
    }
   ],
   "source": [
    "import logging\n",
    "logging.basicConfig(level=logging.ERROR)\n",
    "logging.error(\"This is an error log message.\")"
   ]
  },
  {
   "cell_type": "code",
   "execution_count": null,
   "id": "6f87d5e7",
   "metadata": {},
   "outputs": [],
   "source": [
    "    5. CRITICAL:This is the highest log level indicating critical errors that severely impact the program's execution or its \n",
    "        ability to continue functioning properly. These logs are for capturing severe issues that require immediate attention \n",
    "        such as system failures or unrecoverable errors.\n",
    "\n",
    "Example usage:"
   ]
  },
  {
   "cell_type": "code",
   "execution_count": 13,
   "id": "09bd7894",
   "metadata": {},
   "outputs": [
    {
     "name": "stderr",
     "output_type": "stream",
     "text": [
      "CRITICAL:root:This is a critical log message.\n"
     ]
    }
   ],
   "source": [
    "import logging\n",
    "logging.basicConfig(level=logging.CRITICAL)\n",
    "logging.critical(\"This is a critical log message.\")"
   ]
  },
  {
   "cell_type": "code",
   "execution_count": null,
   "id": "dfad83b4",
   "metadata": {},
   "outputs": [],
   "source": []
  },
  {
   "cell_type": "code",
   "execution_count": null,
   "id": "e9105639",
   "metadata": {},
   "outputs": [],
   "source": [
    "7. What are log formatters in Python logging, and how can you customise the log message format using formatters?\n",
    "\n",
    "Ans.In Python's logging module log formatters are used to specify the format of log messages. They define how the log records \n",
    "    should be formatted before being outputted to the desired destination such as a console file or network. The logging module\n",
    "    provides a basic formatter called 'Formatter which includes placeholders that represent various attributes of log records\n",
    "    such as the datetime level name log message and more. The default log message format is \"%(asctime)s %(levelname)s %(message)s\".\n",
    "    To customize the log message format you can create your own formatter by subclassing the 'Formatter' class. You can then override\n",
    "    the 'format' method to specify the desired log message format using the available placeholders and any additional text.\n",
    "    \n",
    "    For example you can create a formatter that includes the name of the logger in the log message format as follows:\n"
   ]
  },
  {
   "cell_type": "code",
   "execution_count": 16,
   "id": "471b8fcb",
   "metadata": {},
   "outputs": [],
   "source": [
    "import logging\n",
    "\n",
    "class MyFormatter(logging.Formatter):\n",
    "    def format(self,record):\n",
    "        record.name = record.name.upper()\n",
    "        return super().format(record)\n",
    "\n",
    "# Create a logger\n",
    "logger = logging.getLogger('my_logger')\n",
    "\n",
    "# Create and configure a handler\n",
    "handler = logging.StreamHandler()\n",
    "handler.setFormatter(MyFormatter('%(levelname)s - %(name)s - %(message)s'))\n",
    "\n",
    "# Add the handler to the logger\n",
    "logger.addHandler(handler)\n"
   ]
  },
  {
   "cell_type": "code",
   "execution_count": null,
   "id": "469e333d",
   "metadata": {},
   "outputs": [],
   "source": []
  },
  {
   "cell_type": "code",
   "execution_count": null,
   "id": "88e8dc3f",
   "metadata": {},
   "outputs": [],
   "source": [
    "8. How can you set up logging to capture log messages from multiple modules or classes in a Python application?\n",
    "\n",
    "Ans.1. Import the logging module:\n",
    "  \n",
    "   import logging\n"
   ]
  },
  {
   "cell_type": "code",
   "execution_count": null,
   "id": "7e2a908a",
   "metadata": {},
   "outputs": [],
   "source": [
    "# 2. Configure the logging module:\n",
    "   \n",
    "    logging.basicConfig(level=logging.DEBUG, format='%(asctime)s - %(name)s - %(levelname)s - %(message)s')"
   ]
  },
  {
   "cell_type": "code",
   "execution_count": null,
   "id": "24750068",
   "metadata": {},
   "outputs": [],
   "source": [
    "# 3. Create a logger instance for each module or class:\n",
    "    \n",
    "    logger = logging.getLogger('module_name')"
   ]
  },
  {
   "cell_type": "code",
   "execution_count": null,
   "id": "3bbf85fe",
   "metadata": {},
   "outputs": [],
   "source": [
    "# 4. Start logging messages:\n",
    "   \n",
    "   logger.debug('This is a debug message')\n",
    "   logger.info('This is an info message')\n",
    "   logger.warning('This is a warning message')\n",
    "   logger.error('This is an error message')\n",
    "   logger.critical('This is a critical message')"
   ]
  },
  {
   "cell_type": "code",
   "execution_count": 23,
   "id": "4bc7ea12",
   "metadata": {},
   "outputs": [
    {
     "name": "stderr",
     "output_type": "stream",
     "text": [
      "DEBUG:module_name:This is a debug message\n",
      "INFO:module_name:This is an info message\n",
      "WARNING:module_name:This is a warning message\n",
      "ERROR:module_name:This is an error message\n",
      "CRITICAL:module_name:This is a critical message\n"
     ]
    }
   ],
   "source": [
    "import logging\n",
    "logging.basicConfig(level=logging.DEBUG, format='%(asctime)s - %(name)s - %(levelname)s - %(message)s')\n",
    "logger = logging.getLogger('module_name')\n",
    "logger.debug('This is a debug message')\n",
    "logger.info('This is an info message')\n",
    "logger.warning('This is a warning message')\n",
    "logger.error('This is an error message')\n",
    "logger.critical('This is a critical message')\n"
   ]
  },
  {
   "cell_type": "code",
   "execution_count": null,
   "id": "ac7b491d",
   "metadata": {},
   "outputs": [],
   "source": []
  },
  {
   "cell_type": "code",
   "execution_count": null,
   "id": "ea1349fd",
   "metadata": {},
   "outputs": [],
   "source": [
    "9. What is the difference between the logging and print statements in Python? When should you use logging over print statements\n",
    "in a real-world application?\n",
    "\n",
    "Ans. In Python the logging module provides a more flexible and controlled way of generating log output compared to print\n",
    "statements. While print statements are often used for quick debugging and testing purposes logging is designed for \n",
    "production-level applications. Here are a few reasons to use logging over print statements in a real-world application:\n",
    "\n",
    "1. Control: Logging allows you to define different log levels (e.g debug info warning error etc making it easy to filter and \n",
    "            control the amount of information logged. This helps in troubleshooting and maintaining code.\n",
    "2. Configurability: Logging supports configurable handlers and formatters allowing logs to be redirected to various outputs\n",
    "                    (e.g files console email etc.) with different formats. This flexibility makes it easy to adapt and customize log output as needed.\n",
    "3. Performance: Unlike print statements logging does not add additional overhead when disabled or set to a higher log level.\n",
    "                This ensures optimal performance in production environments.\n",
    "4. Persistence: Logging allows log messages to persist even after the application terminates making it useful for debugging \n",
    "                issues that occur during runtime or for generating audit trails.\n"
   ]
  },
  {
   "cell_type": "code",
   "execution_count": null,
   "id": "5f7444d3",
   "metadata": {},
   "outputs": [],
   "source": []
  },
  {
   "cell_type": "code",
   "execution_count": null,
   "id": "793c1e36",
   "metadata": {},
   "outputs": [],
   "source": [
    "10. Write a Python program that logs a message to a file named \"app.log\" with the\n",
    "following requirements:\n",
    "● The log message should be \"Hello, World!\"\n",
    "● The log level should be set to \"INFO.\"\n",
    "● The log file should append new log entries without overwriting previous ones.\n",
    "\n",
    "Ans."
   ]
  },
  {
   "cell_type": "code",
   "execution_count": 38,
   "id": "22d33fc4",
   "metadata": {},
   "outputs": [
    {
     "name": "stderr",
     "output_type": "stream",
     "text": [
      "INFO:root:Hello World!\n"
     ]
    }
   ],
   "source": [
    "import logging\n",
    "\n",
    "# Configure logging\n",
    "logging.basicConfig(filename=\"app.log\", filemode='a', format='%(asctime)s - %(levelname)s - %(message)s level=logging.INFO')\n",
    "\n",
    "# Log the message\n",
    "logging.info(\"Hello World!\")"
   ]
  },
  {
   "cell_type": "code",
   "execution_count": null,
   "id": "bec3ec3a",
   "metadata": {},
   "outputs": [],
   "source": [
    "In this program we use the `logging` module from the Python Standard Library. We configure the logging by setting the log file\n",
    "name to \"app.log\" using `filename=\"app.log\"`. The `filemode` parameter is set to \"a\" to append new log entries without\n",
    "overwriting the previous ones. We set the log level to `logging.INFO` to specify that the log message has an informational level.\n",
    "The `format` parameter defines the format of the log entries including the date and time log level and the log message itself.\n",
    "\n",
    "Finally we log the message \"Hello World!\" using `logging.info(\"Hello World!\")`. This will append the log entry to the file\n",
    "\"app.log\"."
   ]
  },
  {
   "cell_type": "code",
   "execution_count": null,
   "id": "70e6851b",
   "metadata": {},
   "outputs": [],
   "source": []
  },
  {
   "cell_type": "code",
   "execution_count": null,
   "id": "d4df361b",
   "metadata": {},
   "outputs": [],
   "source": [
    "11. Create a Python program that logs an error message to the console and a file named \"errors.log\" if an exception occurs \n",
    "    during the program's execution. The error message should include the exception type and a timestamp.\n",
    "    \n",
    "Ans. Python program that logs error messages to the console and a file named \"errors.log\" when an exception occurs:"
   ]
  },
  {
   "cell_type": "code",
   "execution_count": 48,
   "id": "94e9bb15",
   "metadata": {},
   "outputs": [],
   "source": [
    "import logging\n",
    "import traceback\n",
    "from datetime import datetime\n",
    "\n",
    "def log_error(exception):\n",
    "    timestamp = datetime.now().strftime(\"%Y-%m-%d %H:%M:%S\")\n",
    "    error_message = f\"[{timestamp}] Exception: {type(exception).__name__}\\n\"\n",
    "    print(error_message)\n",
    "    with open( errors.log,\"a\") as file:\n",
    "        file.write(error_message)\n",
    "        traceback.print_exc(file=file)\n",
    "try:\n",
    "    pass\n",
    "except Exception as e:\n",
    "    log_error(e)\n",
    "    "
   ]
  },
  {
   "cell_type": "code",
   "execution_count": null,
   "id": "1735ae5f",
   "metadata": {},
   "outputs": [],
   "source": []
  }
 ],
 "metadata": {
  "kernelspec": {
   "display_name": "Python 3 (ipykernel)",
   "language": "python",
   "name": "python3"
  },
  "language_info": {
   "codemirror_mode": {
    "name": "ipython",
    "version": 3
   },
   "file_extension": ".py",
   "mimetype": "text/x-python",
   "name": "python",
   "nbconvert_exporter": "python",
   "pygments_lexer": "ipython3",
   "version": "3.11.4"
  }
 },
 "nbformat": 4,
 "nbformat_minor": 5
}
