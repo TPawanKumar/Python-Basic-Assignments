{
 "cells": [
  {
   "cell_type": "code",
   "execution_count": null,
   "id": "62c3fa45",
   "metadata": {},
   "outputs": [],
   "source": [
    "1.What does an empty dictionary's code look like?\n",
    "\n",
    "Ans: An empty dictionary is often represented by two empty curly brackets\n",
    "d = {} or d = dict()"
   ]
  },
  {
   "cell_type": "code",
   "execution_count": null,
   "id": "8336bc1b",
   "metadata": {},
   "outputs": [],
   "source": [
    "2.what is the value of dictionary value with key 'foo' and the value 42?\n",
    "\n",
    "Ans: {'foo':42}"
   ]
  },
  {
   "cell_type": "code",
   "execution_count": null,
   "id": "5da421e9",
   "metadata": {},
   "outputs": [],
   "source": [
    "3.What is the most significant distinction between a dictionary and a list?\n",
    "\n",
    "Ans: Dictionaries are represented by {} where as listed are represented by []\n",
    "The Items stored in a dictionary are Unordered , while the items in a list are ordered"
   ]
  },
  {
   "cell_type": "code",
   "execution_count": null,
   "id": "3521f5bf",
   "metadata": {},
   "outputs": [],
   "source": [
    "4.What happens if you try to access spam ['foo'] if spam is {'bar':100}?\n",
    "\n",
    "Ans: we will get a keyError KeyError: 'foo'"
   ]
  },
  {
   "cell_type": "code",
   "execution_count": null,
   "id": "73254147",
   "metadata": {},
   "outputs": [],
   "source": [
    "5.if a dictionary is stored in spam,what is the difference between the expressions 'cat' in spam and 'cat' in spam.keys() ?\n",
    "\n",
    "Ans: There is no difference . The operator checks whether a value exits as a key in the dictionary or not"
   ]
  },
  {
   "cell_type": "code",
   "execution_count": null,
   "id": "ae93d5ed",
   "metadata": {},
   "outputs": [],
   "source": [
    "6.if a dictionary is stored in spam,what is the difference between the expressions 'cat' in spam and 'cat' in spam.values() ?\n",
    "\n",
    "Ans:'cat' in spam checks whether there is a 'cat' key in the dictionary, while 'cat' in spam.values() checks whether there is a value 'cat' for one of the keys in spam."
   ]
  },
  {
   "cell_type": "code",
   "execution_count": null,
   "id": "16a2e8ed",
   "metadata": {},
   "outputs": [],
   "source": [
    "7.what is a shortcut for the following code?\n",
    "if 'color' not in spam: spam['color'] ='black'\n",
    "\n",
    "Ans: spam.setdefault('color','black')"
   ]
  },
  {
   "cell_type": "code",
   "execution_count": null,
   "id": "559b1102",
   "metadata": {},
   "outputs": [],
   "source": [
    "8.How do you 'pretty print' dictionary values using which modules and function?\n",
    "\n",
    "Ans: we can pretty print a dictionary using three functions\n",
    "1.\tby using pprint() function of pprint module\n",
    "•\tNote: pprint() function doesnot prettify nested dictionaries\n",
    "2.\tby using dumps() method of json module\n",
    "3.\tby using dumps() method of yaml module"
   ]
  },
  {
   "cell_type": "code",
   "execution_count": 1,
   "id": "29067b1c",
   "metadata": {},
   "outputs": [
    {
     "name": "stdout",
     "output_type": "stream",
     "text": [
      "Printing using print() function\n",
      " [{'Name': 'Rahul', 'Age': '21', 'Residence': {'Country': 'Amercia', 'City': 'New York'}}, {'Name': 'John', 'Age': '36', 'Residence': {'Country': 'Europe', 'City': 'Madrid'}}, {'Name': 'Maria', 'Age': '39', 'Residence': {'Country': 'Germany', 'City': 'England'}}, {'Name': 'Sunny ', 'Age': '35', 'Residence': {'Country': 'India', 'City': 'Osaka'}}]\n",
      "------------------------------\n",
      "Printing using pprint() funciton\n",
      "[{'Age': '21',\n",
      "  'Name': 'Rahul',\n",
      "  'Residence': {'City': 'New York', 'Country': 'Amercia'}},\n",
      " {'Age': '36',\n",
      "  'Name': 'John',\n",
      "  'Residence': {'City': 'Madrid', 'Country': 'Europe'}},\n",
      " {'Age': '39',\n",
      "  'Name': 'Maria',\n",
      "  'Residence': {'City': 'England', 'Country': 'Germany'}},\n",
      " {'Age': '35',\n",
      "  'Name': 'Sunny ',\n",
      "  'Residence': {'City': 'Osaka', 'Country': 'India'}}]\n",
      "------------------------------\n",
      "Printing using dumps() method\n",
      " [\n",
      "    {\n",
      "        \"Name\": \"Rahul\",\n",
      "        \"Age\": \"21\",\n",
      "        \"Residence\": {\n",
      "            \"Country\": \"Amercia\",\n",
      "            \"City\": \"New York\"\n",
      "        }\n",
      "    },\n",
      "    {\n",
      "        \"Name\": \"John\",\n",
      "        \"Age\": \"36\",\n",
      "        \"Residence\": {\n",
      "            \"Country\": \"Europe\",\n",
      "            \"City\": \"Madrid\"\n",
      "        }\n",
      "    },\n",
      "    {\n",
      "        \"Name\": \"Maria\",\n",
      "        \"Age\": \"39\",\n",
      "        \"Residence\": {\n",
      "            \"Country\": \"Germany\",\n",
      "            \"City\": \"England\"\n",
      "        }\n",
      "    },\n",
      "    {\n",
      "        \"Name\": \"Sunny \",\n",
      "        \"Age\": \"35\",\n",
      "        \"Residence\": {\n",
      "            \"Country\": \"India\",\n",
      "            \"City\": \"Osaka\"\n",
      "        }\n",
      "    }\n",
      "]\n",
      "------------------------------\n",
      "Printing using dump() method\n",
      " - Age: '21'\n",
      "  Name: Rahul\n",
      "  Residence:\n",
      "    City: New York\n",
      "    Country: Amercia\n",
      "- Age: '36'\n",
      "  Name: John\n",
      "  Residence:\n",
      "    City: Madrid\n",
      "    Country: Europe\n",
      "- Age: '39'\n",
      "  Name: Maria\n",
      "  Residence:\n",
      "    City: England\n",
      "    Country: Germany\n",
      "- Age: '35'\n",
      "  Name: 'Sunny '\n",
      "  Residence:\n",
      "    City: Osaka\n",
      "    Country: India\n",
      "\n"
     ]
    }
   ],
   "source": [
    "\n",
    "ndict = [\n",
    "  {'Name': 'Rahul', 'Age': '21', 'Residence': {'Country':'Amercia', 'City': 'New York'}},\n",
    "  {'Name': 'John', 'Age': '36', 'Residence': {'Country':'Europe', 'City': 'Madrid'}},\n",
    "  {'Name': 'Maria', 'Age': '39', 'Residence': {'Country':'Germany', 'City': 'England'}},\n",
    "  {'Name': 'Sunny ', 'Age': '35', 'Residence': {'Country':'India', 'City': 'Osaka'}}\n",
    "]\n",
    "\n",
    "print('Printing using print() function\\n',ndict)\n",
    "print('-'*30)\n",
    "import pprint\n",
    "print('Printing using pprint() funciton')\n",
    "pprint.pprint(ndict)\n",
    "print('-'*30)\n",
    "import json\n",
    "dump = json.dumps(ndict, indent=4)\n",
    "print('Printing using dumps() method\\n', dump)\n",
    "print('-'*30)\n",
    "import yaml\n",
    "dump = yaml.dump(ndict)\n",
    "print('Printing using dump() method\\n', dump)\n"
   ]
  },
  {
   "cell_type": "code",
   "execution_count": null,
   "id": "0550d6bc",
   "metadata": {},
   "outputs": [],
   "source": []
  }
 ],
 "metadata": {
  "kernelspec": {
   "display_name": "Python 3 (ipykernel)",
   "language": "python",
   "name": "python3"
  },
  "language_info": {
   "codemirror_mode": {
    "name": "ipython",
    "version": 3
   },
   "file_extension": ".py",
   "mimetype": "text/x-python",
   "name": "python",
   "nbconvert_exporter": "python",
   "pygments_lexer": "ipython3",
   "version": "3.11.4"
  }
 },
 "nbformat": 4,
 "nbformat_minor": 5
}
